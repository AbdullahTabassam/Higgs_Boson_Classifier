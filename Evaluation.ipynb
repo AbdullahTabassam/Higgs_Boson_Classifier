{
 "cells": [
  {
   "cell_type": "markdown",
   "id": "a74c8312",
   "metadata": {},
   "source": [
    "# <h1><center>Higgs Boson Classification</center></h1>\n",
    "## Part-3\n",
    "### Evaluation\n",
    "\n",
    "Following model training, we must assess the model to see whether it functions as anticipated or not. We must pay attention to specific parameters, including as precision, recall, ROCAUC, loss, and model correctness, to ensure that the performance of the model meets the norms."
   ]
  },
  {
   "cell_type": "code",
   "execution_count": 16,
   "id": "6c2f6e87",
   "metadata": {},
   "outputs": [],
   "source": [
    "#Import important evaluation libraries\n",
    "from cuml.metrics import confusion_matrix\n",
    "from cuml.metrics.accuracy import accuracy_score\n",
    "from cuml.metrics import roc_auc_score\n",
    "from sklearn.metrics import precision_score\n",
    "from sklearn.metrics import recall_score"
   ]
  },
  {
   "cell_type": "markdown",
   "id": "20b577c9",
   "metadata": {},
   "source": [
    "#### Random Forest Model"
   ]
  },
  {
   "cell_type": "markdown",
   "id": "ff0022b7",
   "metadata": {},
   "source": [
    "The accuracy, precision, recall, ROC AUC, and confusion matrix for the Random Forrest model are provided below."
   ]
  },
  {
   "cell_type": "code",
   "execution_count": 17,
   "id": "93138be8",
   "metadata": {},
   "outputs": [
    {
     "name": "stdout",
     "output_type": "stream",
     "text": [
      "Accuracy score:  0.7331298589706421\n",
      "Precision score:  0.740689834197512\n",
      "Recall score:  0.7637056164160283\n",
      "ROC AUC score:  0.7311879396438599\n"
     ]
    },
    {
     "data": {
      "text/plain": [
       "array([[722641, 311668],\n",
       "       [275446, 890244]])"
      ]
     },
     "execution_count": 17,
     "metadata": {},
     "output_type": "execute_result"
    }
   ],
   "source": [
    "print('Accuracy score: ', accuracy_score(y_test, y_pred))\n",
    "print('Precision score: ', precision_score(y_test.values_host, y_pred.values_host))\n",
    "print('Recall score: ', recall_score(y_test.values_host, y_pred.values_host))\n",
    "print('ROC AUC score: ', roc_auc_score(y_test, y_pred))\n",
    "confusion_matrix(y_test.astype('int32'), y_pred.astype('int32'))"
   ]
  },
  {
   "cell_type": "markdown",
   "id": "a1033964",
   "metadata": {},
   "source": [
    "#### XGBoost Model"
   ]
  },
  {
   "cell_type": "markdown",
   "id": "99aca29d",
   "metadata": {},
   "source": [
    "The accuracy, precision, recall, ROC AUC, and confusion matrix for the XGBoost model are provided below."
   ]
  },
  {
   "cell_type": "code",
   "execution_count": 41,
   "id": "0b0e35cf",
   "metadata": {},
   "outputs": [
    {
     "name": "stdout",
     "output_type": "stream",
     "text": [
      "Accuracy score:  0.7417985200881958\n",
      "Precision score:  0.7514195928635432\n",
      "Recall score:  0.7661522360147209\n",
      "ROC AUC score:  0.8233003616333008\n"
     ]
    },
    {
     "data": {
      "text/plain": [
       "array([[738860, 295449],\n",
       "       [272594, 893096]])"
      ]
     },
     "execution_count": 41,
     "metadata": {},
     "output_type": "execute_result"
    }
   ],
   "source": [
    "print('Accuracy score: ', accuracy_score(y_test, model_predictions))\n",
    "print('Precision score: ', precision_score(y_test.values_host, model_predictions))\n",
    "print('Recall score: ', recall_score(y_test.values_host, model_predictions))\n",
    "print('ROC AUC score: ', roc_auc_score(y_test, model_pred))\n",
    "confusion_matrix(y_test.astype('int32'), model_predictions.astype('int32'))"
   ]
  },
  {
   "cell_type": "code",
   "execution_count": 43,
   "id": "aac884fb",
   "metadata": {},
   "outputs": [],
   "source": [
    "from timeit import default_timer\n",
    "from cudf import Series\n",
    "import cupy\n",
    "from scipy.sparse import csr_matrix\n",
    "from cuml import RandomForestClassifier as cu_rf\n",
    "from sklearn.ensemble import RandomForestClassifier as skl_rf\n",
    "from sklearn.metrics import accuracy_score as skl_acc"
   ]
  },
  {
   "cell_type": "markdown",
   "id": "ba662b78",
   "metadata": {},
   "source": [
    "### cuML vs Scikit-Learn Metrics"
   ]
  },
  {
   "cell_type": "markdown",
   "id": "c3c0f4be",
   "metadata": {},
   "source": [
    "We need to dife some functions that can help us benchmark our random forest models when we train them on CPU and GPU"
   ]
  },
  {
   "cell_type": "code",
   "execution_count": 48,
   "id": "e420eb15",
   "metadata": {},
   "outputs": [],
   "source": [
    "def CPU_GPU_Metrics(X_train, X_test, y_train, y_test, m_list, params, run_sklearn=True, run_cuml=True):\n",
    "    # Initialize result arrays for Scikit-learn and cuML models\n",
    "    result_sklearn = np.zeros((len(m_list),4)) \n",
    "    result_cuml = np.zeros((len(m_list),4)) \n",
    "    # Loop over training set sizes    \n",
    "    for i, m in enumerate(m_list):\n",
    "        # Extract a subset of the training data of size m\n",
    "        X_in = X_train.iloc[:m,:]\n",
    "        y_in = y_train[:m]\n",
    "        # Train and time a cuML random forest on the subset of the data\n",
    "        if run_cuml:\n",
    "            result_cuml[i,:] = cuml_rf(X_in, X_test, y_in, y_test, params)\n",
    "            # Print the training time and accuracy for the cuML model\n",
    "            print(f'cuML    time for traning size {m:6} is {result_cuml[i,1]:4.2f} sec, accuracy {result_cuml[i,3]:.2%}')\n",
    "        # Train and time a Scikit-learn random forest on the subset of the data    \n",
    "        if run_sklearn:\n",
    "            result_sklearn[i,:] = sklearn_rf(X_in, X_test, y_in, y_test, params)\n",
    "            # Print the training time and accuracy for the Scikit-learn model\n",
    "            print(f'Sklearn time for traning size {m:6} is {result_sklearn[i,1]:4.2f} sec, accuracy {result_sklearn[i,3]:.2%}')\n",
    "# Return the results for both models            \n",
    "    return result_cuml, result_sklearn\n",
    "\n",
    "\n",
    "# define function to train and time cuML random forest classifier\n",
    "def cuml_rf(X_train, X_test, y_train, y_test, params):\n",
    "    # initialise cuML random forest classifier with provided parameters\n",
    "    clf = cu_rf(**params)\n",
    "    # call timer function to train and time the classifier, returning the time\n",
    "    return timer(clf, X_train, X_test, y_train, y_test)    \n",
    "\n",
    "# define function to train and time scikit-learn random forest classifier\n",
    "def sklearn_rf(X_train, X_test, y_train, y_test, params):\n",
    "    # check if number of rows in X_train is less than or equal to 50,000 (a cutoff for scikit-learn training)\n",
    "    if X_train.shape[0] <= 50000:\n",
    "        # initialise scikit-learn random forest classifier with provided parameters\n",
    "        clf = skl_rf(**params)\n",
    "        # convert cuDF dataframes to numpy arrays\n",
    "        X_train = cupy.asnumpy(X_train.values_host)\n",
    "        X_test = cupy.asnumpy(X_test.values_host)\n",
    "        y_train = cupy.asnumpy(y_train)\n",
    "        y_test = cupy.asnumpy(y_test)\n",
    "        # call time_rf function to train and time the classifier, returning the time\n",
    "        return timer(clf, X_train, X_test, y_train, y_test)\n",
    "    else:\n",
    "        # if number of rows in X_train is greater than 50,000, return a list with the number of rows and three NaN values\n",
    "        return [X_train.shape[0], np.nan, np.nan, np.nan]\n",
    "    \n",
    "\n",
    "def timer(clf, X_train, X_test, y_train, y_test):\n",
    "\n",
    "    ######################################## Measure time to fit the model #########################################\n",
    "    \n",
    "    start = default_timer()   # Get the current time\n",
    "    clf.fit(X_train, y_train) # Fit the classifier to the training data\n",
    "    stop = default_timer()    # Get the current time again\n",
    "    time_fit = stop - start   # Calculate the time difference\n",
    "    \n",
    "    \n",
    "    ##################################### Measure time to predict on test set ######################################\n",
    "    \n",
    "    start = default_timer()           # Get the current time\n",
    "    y_pred = clf.predict(X_test)      # Predict the labels for the test data\n",
    "    stop = default_timer()            # Get the current time again\n",
    "    time_pred = stop - start          # Calculate the time difference\n",
    "        \n",
    "    # Calculate accuracy\n",
    "    y_pred = clf.predict(X_test) # Predict the labels for the test data\n",
    "    \n",
    "    if isinstance(y_pred, Series): # Check if y_pred is a cuML series object\n",
    "        # calculate accuracy with cuML\n",
    "        accuracy = cuml.metrics.accuracy_score(y_test, y_pred)\n",
    "    else: \n",
    "        # calculate accuracy with scikit-learn\n",
    "        accuracy = skl_acc(y_test, y_pred)\n",
    "        \n",
    "    return [X_train.shape[0], time_fit, time_pred, accuracy] # Return the four values in a list\n"
   ]
  },
  {
   "cell_type": "code",
   "execution_count": 49,
   "id": "3c4b03f2",
   "metadata": {},
   "outputs": [],
   "source": [
    "params = {\n",
    "    'n_estimators' : 100, # Number of trees in RF\n",
    "    'max_depth'    : 16,  # max depth of each tree\n",
    "    'random_state' : 72   # random seed\n",
    "}"
   ]
  },
  {
   "cell_type": "code",
   "execution_count": 50,
   "id": "1bb0e15f",
   "metadata": {},
   "outputs": [
    {
     "name": "stdout",
     "output_type": "stream",
     "text": [
      "cuML    time for traning size     10 is 0.06 sec, accuracy 54.64%\n",
      "Sklearn time for traning size     10 is 0.06 sec, accuracy 52.92%\n",
      "cuML    time for traning size    100 is 0.12 sec, accuracy 57.26%\n",
      "Sklearn time for traning size    100 is 0.07 sec, accuracy 56.64%\n",
      "cuML    time for traning size   1000 is 0.16 sec, accuracy 65.83%\n",
      "Sklearn time for traning size   1000 is 0.21 sec, accuracy 65.80%\n",
      "cuML    time for traning size  10000 is 0.20 sec, accuracy 70.12%\n",
      "Sklearn time for traning size  10000 is 2.30 sec, accuracy 70.07%\n",
      "cuML    time for traning size  50000 is 0.32 sec, accuracy 71.55%\n",
      "Sklearn time for traning size  50000 is 13.13 sec, accuracy 71.58%\n",
      "cuML    time for traning size 100000 is 0.47 sec, accuracy 71.99%\n",
      "Sklearn time for traning size 100000 is  nan sec, accuracy nan%\n",
      "cuML    time for traning size 200000 is 0.68 sec, accuracy 72.35%\n",
      "Sklearn time for traning size 200000 is  nan sec, accuracy nan%\n",
      "cuML    time for traning size 300000 is 0.91 sec, accuracy 72.56%\n",
      "Sklearn time for traning size 300000 is  nan sec, accuracy nan%\n",
      "cuML    time for traning size 400000 is 1.15 sec, accuracy 72.68%\n",
      "Sklearn time for traning size 400000 is  nan sec, accuracy nan%\n",
      "cuML    time for traning size 8800000 is 26.65 sec, accuracy 73.31%\n",
      "Sklearn time for traning size 8800000 is  nan sec, accuracy nan%\n"
     ]
    }
   ],
   "source": [
    "m_list = [10, 100, 1000, 10000, 50000, 100000, 200000, 300000, 400000, X_train.shape[0]]\n",
    "result_cuml, result_sklearn = CPU_GPU_Metrics(X_train_scaled, X_test_scaled, y_train, y_test, m_list, params)"
   ]
  },
  {
   "cell_type": "code",
   "execution_count": 51,
   "id": "0818b596",
   "metadata": {},
   "outputs": [
    {
     "data": {
      "image/png": "[encoded data removed]",
      "text/plain": [
       "<Figure size 1080x288 with 3 Axes>"
      ]
     },
     "metadata": {
      "needs_background": "light"
     },
     "output_type": "display_data"
    }
   ],
   "source": [
    "fig = plt.figure(figsize = (15,4))\n",
    "ax = fig.add_subplot(131)\n",
    "ax.plot(result_sklearn[:,0], result_sklearn[:,1], 'o-', label='scikit-learn')\n",
    "\n",
    "ax.plot(result_cuml[:,0], result_cuml[:,1], '>-', label='cuML')\n",
    "   \n",
    "ax.set_xlabel('no. of samples')\n",
    "ax.set_ylabel('train time (s)')\n",
    "ax.legend()\n",
    "ax.set_title('Training time')\n",
    "\n",
    "ax = fig.add_subplot(132)\n",
    "ax.plot(result_sklearn[:,0], result_sklearn[:,2], 'o-', label='scikit-learn')\n",
    "ax.plot(result_cuml[:,0], result_cuml[:,2], '>-', label='cuML RF')\n",
    "ax.set_xlabel('no. of samples')\n",
    "ax.set_ylabel('train predict (s)')\n",
    "ax.legend()\n",
    "ax.set_title('Prediction time')\n",
    "\n",
    "ax = fig.add_subplot(133)\n",
    "ax.plot(result_sklearn[:,0], result_sklearn[:,3]*100, 'o-', label='scikit-learn')\n",
    "ax.plot(result_cuml[:,0], result_cuml[:,3]*100, '>-', label='cuML RF')\n",
    "ax.set_xlabel('no. of samples')\n",
    "ax.set_ylabel('accuracy %')\n",
    "ax.legend()\n",
    "ax.set_title('Accuracy')\n",
    "plt.show()"
   ]
  },
  {
   "cell_type": "markdown",
   "id": "d9d8ff6d",
   "metadata": {},
   "source": [
    "Our results showed that cuML consistently outperformed Sklearn in terms of training time, especially on larger datasets. For example, when training on a dataset of size 8800000, cuML took only 26.65 seconds compared to Sklearn's undefined training time, which suggests that Sklearn may have encountered memory limitations or other issues.\n",
    "\n",
    "In terms of accuracy, both libraries performed similarly on small datasets, with cuML having a slight advantage on larger datasets. However, it's important to note that Sklearn's accuracy results were not available for the larger datasets.\n",
    "\n",
    "The plots show the same results in graphical form."
   ]
  },
  {
   "cell_type": "markdown",
   "id": "652da490",
   "metadata": {},
   "source": [
    "### XGBoost model"
   ]
  },
  {
   "cell_type": "code",
   "execution_count": 23,
   "id": "f770d03c",
   "metadata": {},
   "outputs": [],
   "source": [
    "# parameters for GPU\n",
    "params_gpu = {\n",
    "    'silent': 1, \n",
    "    'tree_method': 'gpu_hist', \n",
    "    'n_gpus': 1, \n",
    "    'eval_metric': 'auc', \n",
    "    'objective': 'binary:logistic',\n",
    "}\n",
    "\n",
    "# parameters for CPU \n",
    "params_cpu = {\n",
    "    'silent': 1, \n",
    "    'tree_method': 'hist', \n",
    "    'n_gpus': 0, \n",
    "    'eval_metric': 'auc', \n",
    "    'objective': 'binary:logistic',\n",
    "}"
   ]
  },
  {
   "cell_type": "code",
   "execution_count": 24,
   "id": "02736835",
   "metadata": {
    "scrolled": true
   },
   "outputs": [
    {
     "name": "stdout",
     "output_type": "stream",
     "text": [
      "[22:31:48] WARNING: /opt/conda/envs/rapids/conda-bld/xgboost_1639022671260/work/src/learner.cc:576: \n",
      "Parameters: { \"n_gpus\", \"silent\" } might not be used.\n",
      "\n",
      "  This could be a false alarm, with some parameters getting used by language bindings but\n",
      "  then being mistakenly passed down to XGBoost core, or some parameter actually being used\n",
      "  but getting flagged wrongly here. Please open an issue if you find any such cases.\n",
      "\n",
      "\n",
      "[0]\tvalidation-auc:0.74267\ttrain-auc:0.74290\n",
      "[1]\tvalidation-auc:0.75479\ttrain-auc:0.75500\n",
      "[2]\tvalidation-auc:0.76405\ttrain-auc:0.76423\n",
      "[3]\tvalidation-auc:0.76968\ttrain-auc:0.76987\n",
      "[4]\tvalidation-auc:0.77463\ttrain-auc:0.77481\n",
      "[5]\tvalidation-auc:0.78024\ttrain-auc:0.78015\n",
      "[6]\tvalidation-auc:0.78348\ttrain-auc:0.78312\n",
      "[7]\tvalidation-auc:0.78713\ttrain-auc:0.78608\n",
      "[8]\tvalidation-auc:0.78973\ttrain-auc:0.78660\n",
      "[9]\tvalidation-auc:0.79254\ttrain-auc:0.78693\n",
      "[10]\tvalidation-auc:0.79463\ttrain-auc:0.78643\n",
      "[11]\tvalidation-auc:0.79627\ttrain-auc:0.78597\n",
      "[12]\tvalidation-auc:0.79727\ttrain-auc:0.78506\n",
      "[13]\tvalidation-auc:0.79880\ttrain-auc:0.78456\n",
      "[14]\tvalidation-auc:0.79972\ttrain-auc:0.78350\n",
      "[15]\tvalidation-auc:0.80067\ttrain-auc:0.78189\n",
      "[16]\tvalidation-auc:0.80177\ttrain-auc:0.78202\n",
      "[17]\tvalidation-auc:0.80247\ttrain-auc:0.78210\n",
      "[18]\tvalidation-auc:0.80404\ttrain-auc:0.78292\n",
      "[19]\tvalidation-auc:0.80489\ttrain-auc:0.78278\n",
      "[20]\tvalidation-auc:0.80561\ttrain-auc:0.78307\n",
      "[21]\tvalidation-auc:0.80622\ttrain-auc:0.78315\n",
      "[22]\tvalidation-auc:0.80687\ttrain-auc:0.78337\n",
      "[23]\tvalidation-auc:0.80746\ttrain-auc:0.78348\n",
      "[24]\tvalidation-auc:0.80779\ttrain-auc:0.78364\n",
      "[25]\tvalidation-auc:0.80834\ttrain-auc:0.78390\n",
      "[26]\tvalidation-auc:0.80858\ttrain-auc:0.78400\n",
      "[27]\tvalidation-auc:0.80903\ttrain-auc:0.78442\n",
      "[28]\tvalidation-auc:0.80932\ttrain-auc:0.78462\n",
      "[29]\tvalidation-auc:0.80981\ttrain-auc:0.78497\n",
      "[30]\tvalidation-auc:0.81035\ttrain-auc:0.78544\n",
      "[31]\tvalidation-auc:0.81083\ttrain-auc:0.78584\n",
      "[32]\tvalidation-auc:0.81096\ttrain-auc:0.78594\n",
      "[33]\tvalidation-auc:0.81144\ttrain-auc:0.78635\n",
      "[34]\tvalidation-auc:0.81203\ttrain-auc:0.78686\n",
      "[35]\tvalidation-auc:0.81240\ttrain-auc:0.78719\n",
      "[36]\tvalidation-auc:0.81304\ttrain-auc:0.78784\n",
      "[37]\tvalidation-auc:0.81353\ttrain-auc:0.78825\n",
      "[38]\tvalidation-auc:0.81389\ttrain-auc:0.78858\n",
      "[39]\tvalidation-auc:0.81422\ttrain-auc:0.78888\n",
      "[40]\tvalidation-auc:0.81436\ttrain-auc:0.78897\n",
      "[41]\tvalidation-auc:0.81448\ttrain-auc:0.78912\n",
      "[42]\tvalidation-auc:0.81484\ttrain-auc:0.78939\n",
      "[43]\tvalidation-auc:0.81518\ttrain-auc:0.78971\n",
      "[44]\tvalidation-auc:0.81552\ttrain-auc:0.79000\n",
      "[45]\tvalidation-auc:0.81578\ttrain-auc:0.79028\n",
      "[46]\tvalidation-auc:0.81591\ttrain-auc:0.79036\n",
      "[47]\tvalidation-auc:0.81630\ttrain-auc:0.79069\n",
      "[48]\tvalidation-auc:0.81672\ttrain-auc:0.79105\n",
      "[49]\tvalidation-auc:0.81720\ttrain-auc:0.79148\n",
      "[50]\tvalidation-auc:0.81752\ttrain-auc:0.79177\n",
      "[51]\tvalidation-auc:0.81769\ttrain-auc:0.79192\n",
      "[52]\tvalidation-auc:0.81797\ttrain-auc:0.79219\n",
      "[53]\tvalidation-auc:0.81805\ttrain-auc:0.79224\n",
      "[54]\tvalidation-auc:0.81823\ttrain-auc:0.79243\n",
      "[55]\tvalidation-auc:0.81842\ttrain-auc:0.79262\n",
      "[56]\tvalidation-auc:0.81855\ttrain-auc:0.79272\n",
      "[57]\tvalidation-auc:0.81866\ttrain-auc:0.79282\n",
      "[58]\tvalidation-auc:0.81894\ttrain-auc:0.79305\n",
      "[59]\tvalidation-auc:0.81909\ttrain-auc:0.79321\n",
      "[60]\tvalidation-auc:0.81944\ttrain-auc:0.79355\n",
      "[61]\tvalidation-auc:0.81953\ttrain-auc:0.79362\n",
      "[62]\tvalidation-auc:0.81966\ttrain-auc:0.79373\n",
      "[63]\tvalidation-auc:0.81969\ttrain-auc:0.79378\n",
      "[64]\tvalidation-auc:0.81984\ttrain-auc:0.79391\n",
      "[65]\tvalidation-auc:0.81992\ttrain-auc:0.79399\n",
      "[66]\tvalidation-auc:0.82007\ttrain-auc:0.79415\n",
      "[67]\tvalidation-auc:0.82022\ttrain-auc:0.79429\n",
      "[68]\tvalidation-auc:0.82050\ttrain-auc:0.79455\n",
      "[69]\tvalidation-auc:0.82065\ttrain-auc:0.79470\n",
      "[70]\tvalidation-auc:0.82081\ttrain-auc:0.79487\n",
      "[71]\tvalidation-auc:0.82087\ttrain-auc:0.79491\n",
      "[72]\tvalidation-auc:0.82096\ttrain-auc:0.79501\n",
      "[73]\tvalidation-auc:0.82130\ttrain-auc:0.79530\n",
      "[74]\tvalidation-auc:0.82153\ttrain-auc:0.79550\n",
      "[75]\tvalidation-auc:0.82186\ttrain-auc:0.79580\n",
      "[76]\tvalidation-auc:0.82197\ttrain-auc:0.79590\n",
      "[77]\tvalidation-auc:0.82229\ttrain-auc:0.79624\n",
      "[78]\tvalidation-auc:0.82249\ttrain-auc:0.79643\n",
      "[79]\tvalidation-auc:0.82261\ttrain-auc:0.79660\n",
      "[80]\tvalidation-auc:0.82277\ttrain-auc:0.79674\n",
      "[81]\tvalidation-auc:0.82300\ttrain-auc:0.79692\n",
      "[82]\tvalidation-auc:0.82304\ttrain-auc:0.79698\n",
      "[83]\tvalidation-auc:0.82309\ttrain-auc:0.79704\n",
      "[84]\tvalidation-auc:0.82317\ttrain-auc:0.79711\n",
      "[85]\tvalidation-auc:0.82330\ttrain-auc:0.79726\n",
      "[86]\tvalidation-auc:0.82347\ttrain-auc:0.79742\n",
      "[87]\tvalidation-auc:0.82358\ttrain-auc:0.79749\n",
      "[88]\tvalidation-auc:0.82379\ttrain-auc:0.79765\n",
      "[89]\tvalidation-auc:0.82387\ttrain-auc:0.79775\n",
      "[90]\tvalidation-auc:0.82392\ttrain-auc:0.79783\n",
      "[91]\tvalidation-auc:0.82398\ttrain-auc:0.79785\n",
      "[92]\tvalidation-auc:0.82404\ttrain-auc:0.79794\n",
      "[93]\tvalidation-auc:0.82416\ttrain-auc:0.79804\n",
      "[94]\tvalidation-auc:0.82432\ttrain-auc:0.79820\n",
      "[95]\tvalidation-auc:0.82443\ttrain-auc:0.79831\n",
      "[96]\tvalidation-auc:0.82449\ttrain-auc:0.79836\n",
      "[97]\tvalidation-auc:0.82455\ttrain-auc:0.79839\n",
      "[98]\tvalidation-auc:0.82465\ttrain-auc:0.79851\n",
      "[99]\tvalidation-auc:0.82470\ttrain-auc:0.79857\n",
      "CPU times: user 22min 30s, sys: 8.86 s, total: 22min 38s\n",
      "Wall time: 1min 9s\n"
     ]
    }
   ],
   "source": [
    "%%time\n",
    "\n",
    "XGB_model_cpu = xgb.train(params_cpu, d_train, num_round, eval_list)"
   ]
  },
  {
   "cell_type": "code",
   "execution_count": 26,
   "id": "208197c3",
   "metadata": {},
   "outputs": [
    {
     "name": "stdout",
     "output_type": "stream",
     "text": [
      "Accuracy score CPU:  0.74142986536026\n",
      "ROC AUC score CPU:  0.8229124546051025\n"
     ]
    }
   ],
   "source": [
    "model_pred_CPU = XGB_model_cpu.predict(d_validation)\n",
    "\n",
    "model_predictions_CPU = [round(value) for value in model_pred_CPU]\n",
    "model_predictions_CPU = np.array(model_predictions_CPU)\n",
    "\n",
    "print('Accuracy score CPU: ', accuracy_score(y_test, model_predictions_CPU))\n",
    "\n",
    "print('ROC AUC score CPU: ', roc_auc_score(y_test, model_pred_CPU))"
   ]
  },
  {
   "cell_type": "code",
   "execution_count": 28,
   "id": "893cd563",
   "metadata": {
    "collapsed": true
   },
   "outputs": [
    {
     "name": "stdout",
     "output_type": "stream",
     "text": [
      "[22:36:49] WARNING: /opt/conda/envs/rapids/conda-bld/xgboost_1639022671260/work/src/learner.cc:576: \n",
      "Parameters: { \"n_gpus\", \"silent\" } might not be used.\n",
      "\n",
      "  This could be a false alarm, with some parameters getting used by language bindings but\n",
      "  then being mistakenly passed down to XGBoost core, or some parameter actually being used\n",
      "  but getting flagged wrongly here. Please open an issue if you find any such cases.\n",
      "\n",
      "\n",
      "[0]\tvalidation-auc:0.74269\ttrain-auc:0.74290\n",
      "[1]\tvalidation-auc:0.75468\ttrain-auc:0.75489\n",
      "[2]\tvalidation-auc:0.76418\ttrain-auc:0.76437\n",
      "[3]\tvalidation-auc:0.76987\ttrain-auc:0.77006\n",
      "[4]\tvalidation-auc:0.77461\ttrain-auc:0.77488\n",
      "[5]\tvalidation-auc:0.77925\ttrain-auc:0.77950\n",
      "[6]\tvalidation-auc:0.78417\ttrain-auc:0.78443\n",
      "[7]\tvalidation-auc:0.78715\ttrain-auc:0.78743\n",
      "[8]\tvalidation-auc:0.78967\ttrain-auc:0.78994\n",
      "[9]\tvalidation-auc:0.79127\ttrain-auc:0.79161\n",
      "[10]\tvalidation-auc:0.79349\ttrain-auc:0.79384\n",
      "[11]\tvalidation-auc:0.79480\ttrain-auc:0.79515\n",
      "[12]\tvalidation-auc:0.79607\ttrain-auc:0.79641\n",
      "[13]\tvalidation-auc:0.79752\ttrain-auc:0.79787\n",
      "[14]\tvalidation-auc:0.79888\ttrain-auc:0.79922\n",
      "[15]\tvalidation-auc:0.79976\ttrain-auc:0.80014\n",
      "[16]\tvalidation-auc:0.80077\ttrain-auc:0.80116\n",
      "[17]\tvalidation-auc:0.80158\ttrain-auc:0.80197\n",
      "[18]\tvalidation-auc:0.80232\ttrain-auc:0.80273\n",
      "[19]\tvalidation-auc:0.80299\ttrain-auc:0.80342\n",
      "[20]\tvalidation-auc:0.80359\ttrain-auc:0.80405\n",
      "[21]\tvalidation-auc:0.80443\ttrain-auc:0.80491\n",
      "[22]\tvalidation-auc:0.80483\ttrain-auc:0.80535\n",
      "[23]\tvalidation-auc:0.80514\ttrain-auc:0.80565\n",
      "[24]\tvalidation-auc:0.80610\ttrain-auc:0.80663\n",
      "[25]\tvalidation-auc:0.80672\ttrain-auc:0.80727\n",
      "[26]\tvalidation-auc:0.80726\ttrain-auc:0.80785\n",
      "[27]\tvalidation-auc:0.80771\ttrain-auc:0.80830\n",
      "[28]\tvalidation-auc:0.80823\ttrain-auc:0.80886\n",
      "[29]\tvalidation-auc:0.80848\ttrain-auc:0.80911\n",
      "[30]\tvalidation-auc:0.80868\ttrain-auc:0.80934\n",
      "[31]\tvalidation-auc:0.80947\ttrain-auc:0.81015\n",
      "[32]\tvalidation-auc:0.80997\ttrain-auc:0.81068\n",
      "[33]\tvalidation-auc:0.81014\ttrain-auc:0.81086\n",
      "[34]\tvalidation-auc:0.81096\ttrain-auc:0.81169\n",
      "[35]\tvalidation-auc:0.81125\ttrain-auc:0.81200\n",
      "[36]\tvalidation-auc:0.81141\ttrain-auc:0.81217\n",
      "[37]\tvalidation-auc:0.81179\ttrain-auc:0.81257\n",
      "[38]\tvalidation-auc:0.81219\ttrain-auc:0.81299\n",
      "[39]\tvalidation-auc:0.81250\ttrain-auc:0.81332\n",
      "[40]\tvalidation-auc:0.81259\ttrain-auc:0.81341\n",
      "[41]\tvalidation-auc:0.81274\ttrain-auc:0.81358\n",
      "[42]\tvalidation-auc:0.81291\ttrain-auc:0.81376\n",
      "[43]\tvalidation-auc:0.81307\ttrain-auc:0.81391\n",
      "[44]\tvalidation-auc:0.81332\ttrain-auc:0.81418\n",
      "[45]\tvalidation-auc:0.81371\ttrain-auc:0.81459\n",
      "[46]\tvalidation-auc:0.81438\ttrain-auc:0.81529\n",
      "[47]\tvalidation-auc:0.81491\ttrain-auc:0.81584\n",
      "[48]\tvalidation-auc:0.81507\ttrain-auc:0.81602\n",
      "[49]\tvalidation-auc:0.81537\ttrain-auc:0.81633\n",
      "[50]\tvalidation-auc:0.81573\ttrain-auc:0.81671\n",
      "[51]\tvalidation-auc:0.81581\ttrain-auc:0.81680\n",
      "[52]\tvalidation-auc:0.81610\ttrain-auc:0.81710\n",
      "[53]\tvalidation-auc:0.81627\ttrain-auc:0.81730\n",
      "[54]\tvalidation-auc:0.81654\ttrain-auc:0.81759\n",
      "[55]\tvalidation-auc:0.81662\ttrain-auc:0.81768\n",
      "[56]\tvalidation-auc:0.81673\ttrain-auc:0.81781\n",
      "[57]\tvalidation-auc:0.81698\ttrain-auc:0.81807\n",
      "[58]\tvalidation-auc:0.81713\ttrain-auc:0.81822\n",
      "[59]\tvalidation-auc:0.81721\ttrain-auc:0.81831\n",
      "[60]\tvalidation-auc:0.81751\ttrain-auc:0.81863\n",
      "[61]\tvalidation-auc:0.81768\ttrain-auc:0.81879\n",
      "[62]\tvalidation-auc:0.81814\ttrain-auc:0.81927\n",
      "[63]\tvalidation-auc:0.81829\ttrain-auc:0.81944\n",
      "[64]\tvalidation-auc:0.81842\ttrain-auc:0.81959\n",
      "[65]\tvalidation-auc:0.81847\ttrain-auc:0.81966\n",
      "[66]\tvalidation-auc:0.81862\ttrain-auc:0.81981\n",
      "[67]\tvalidation-auc:0.81865\ttrain-auc:0.81985\n",
      "[68]\tvalidation-auc:0.81879\ttrain-auc:0.82001\n",
      "[69]\tvalidation-auc:0.81891\ttrain-auc:0.82016\n",
      "[70]\tvalidation-auc:0.81898\ttrain-auc:0.82023\n",
      "[71]\tvalidation-auc:0.81917\ttrain-auc:0.82044\n",
      "[72]\tvalidation-auc:0.81934\ttrain-auc:0.82062\n",
      "[73]\tvalidation-auc:0.81941\ttrain-auc:0.82069\n",
      "[74]\tvalidation-auc:0.81950\ttrain-auc:0.82079\n",
      "[75]\tvalidation-auc:0.81966\ttrain-auc:0.82096\n",
      "[76]\tvalidation-auc:0.81990\ttrain-auc:0.82120\n",
      "[77]\tvalidation-auc:0.82002\ttrain-auc:0.82134\n",
      "[78]\tvalidation-auc:0.82034\ttrain-auc:0.82167\n",
      "[79]\tvalidation-auc:0.82054\ttrain-auc:0.82187\n",
      "[80]\tvalidation-auc:0.82077\ttrain-auc:0.82211\n",
      "[81]\tvalidation-auc:0.82098\ttrain-auc:0.82232\n",
      "[82]\tvalidation-auc:0.82135\ttrain-auc:0.82270\n",
      "[83]\tvalidation-auc:0.82150\ttrain-auc:0.82286\n",
      "[84]\tvalidation-auc:0.82154\ttrain-auc:0.82291\n",
      "[85]\tvalidation-auc:0.82159\ttrain-auc:0.82296\n",
      "[86]\tvalidation-auc:0.82169\ttrain-auc:0.82309\n",
      "[87]\tvalidation-auc:0.82181\ttrain-auc:0.82322\n",
      "[88]\tvalidation-auc:0.82197\ttrain-auc:0.82340\n",
      "[89]\tvalidation-auc:0.82217\ttrain-auc:0.82361\n",
      "[90]\tvalidation-auc:0.82239\ttrain-auc:0.82385\n",
      "[91]\tvalidation-auc:0.82256\ttrain-auc:0.82401\n",
      "[92]\tvalidation-auc:0.82264\ttrain-auc:0.82412\n",
      "[93]\tvalidation-auc:0.82285\ttrain-auc:0.82434\n",
      "[94]\tvalidation-auc:0.82290\ttrain-auc:0.82440\n",
      "[95]\tvalidation-auc:0.82295\ttrain-auc:0.82447\n",
      "[96]\tvalidation-auc:0.82305\ttrain-auc:0.82458\n",
      "[97]\tvalidation-auc:0.82321\ttrain-auc:0.82476\n",
      "[98]\tvalidation-auc:0.82325\ttrain-auc:0.82481\n",
      "[99]\tvalidation-auc:0.82330\ttrain-auc:0.82488\n",
      "CPU times: user 3.2 s, sys: 50.2 ms, total: 3.25 s\n",
      "Wall time: 3.24 s\n"
     ]
    }
   ],
   "source": [
    "%%time\n",
    "\n",
    "XGB_model_gpu = xgb.train(params_gpu, d_train, num_round, eval_list)"
   ]
  },
  {
   "cell_type": "code",
   "execution_count": 29,
   "id": "e1887fbb",
   "metadata": {},
   "outputs": [
    {
     "name": "stdout",
     "output_type": "stream",
     "text": [
      "Accuracy score GPU:  0.7417985200881958\n",
      "ROC AUC score GPU:  0.8233003616333008\n"
     ]
    }
   ],
   "source": [
    "model_pred_GPU = XGB_model_gpu.predict(d_validation)\n",
    "\n",
    "model_predictions_GPU = [round(value) for value in model_pred_GPU]\n",
    "model_predictions_GPU = np.array(model_predictions_GPU)\n",
    "\n",
    "print('Accuracy score GPU: ', accuracy_score(y_test, model_predictions_GPU))\n",
    "\n",
    "print('ROC AUC score GPU: ', roc_auc_score(y_test, model_pred_GPU))"
   ]
  },
  {
   "cell_type": "markdown",
   "id": "51c8c913",
   "metadata": {},
   "source": [
    "The CPU time for the model is 22 minutes and 31 seconds, while the GPU time is only 3.81 seconds. This suggests that training the model on the GPU can result in significant speedup compared to the CPU. However, the validation AUC scores for both the CPU and GPU models are similar, indicating that the performance of the two models is comparable.\n",
    "\n",
    "When evaluating the model on the test set, the accuracy score for both the CPU and GPU models is around 74%, which suggests that the model predicted the correct class for approximately 3/4 of the samples in the test set. The ROC AUC score, which is a measure of the model's ability to distinguish between positive and negative classes, is also similar for both the CPU and GPU models, with values around 0.823. This indicates that the model's performance on the test set is consistent with its performance on the validation set.\n",
    "\n",
    "The plot belo fives a graphical representation on the difference in the time that we encounter to get approx. same performance while using CPU and GPU"
   ]
  },
  {
   "cell_type": "code",
   "execution_count": 67,
   "id": "d1398817",
   "metadata": {},
   "outputs": [
    {
     "data": {
      "image/png": "[encoded data removed]",
      "text/plain": [
       "<Figure size 1080x360 with 3 Axes>"
      ]
     },
     "metadata": {
      "needs_background": "light"
     },
     "output_type": "display_data"
    }
   ],
   "source": [
    "# Define the test ROC AUC and accuracy scores for both models\n",
    "test_roc_auc_scores = [0.8229124546051025, 0.8233003616333008]\n",
    "test_accuracy_scores = [0.74142986536026, 0.7417985200881958]\n",
    "\n",
    "# Define the training times for both models\n",
    "training_times = [22*60 + 31, 3.81]\n",
    "\n",
    "# Define the colors for the bars\n",
    "colors = ['#FFA54F', '#7B68EE']\n",
    "\n",
    "\n",
    "# Create a figure with three subplots\n",
    "fig, axs = plt.subplots(3,1 , figsize=(15, 5))\n",
    "\n",
    "# Plot the test ROC AUC scores\n",
    "axs[0].barh(['CPU', 'GPU'], test_roc_auc_scores, height=0.5, align='edge', color=colors)\n",
    "axs[0].set_xlabel('ROC AUC')\n",
    "\n",
    "# Plot the test accuracy scores\n",
    "axs[1].barh(['CPU', 'GPU'], test_accuracy_scores, height=0.5, align='edge', color=colors)\n",
    "axs[1].set_xlabel('Accuracy')\n",
    "\n",
    "# Plot the training times\n",
    "axs[2].barh(['CPU', 'GPU'], training_times, height=0.5, align='edge', color=colors)\n",
    "axs[2].set_xlabel('Training Time (seconds)')\n",
    "\n",
    "# Set the title for the entire figure\n",
    "fig.suptitle('Test Metrics and Training Times for CPU and GPU Models')\n",
    "\n",
    "# Add a grid to the plots\n",
    "for ax in axs:\n",
    "    ax.grid(axis='x', linestyle='--')\n",
    "\n",
    "# Adjust the layout of the subplots\n",
    "plt.tight_layout()\n",
    "\n",
    "# Display the plot\n",
    "plt.show()"
   ]
  },
  {
   "cell_type": "code",
   "execution_count": 21,
   "id": "2ec43eec",
   "metadata": {},
   "outputs": [],
   "source": [
    "params_cpu = {\n",
    "    'silent': 1,\n",
    "    'tree_method': 'hist',\n",
    "    'n_gpus': 0, \n",
    "    'eval_metric': 'auc', \n",
    "    'objective': 'binary:logistic',\n",
    "    'max_depth': 15, \n",
    "    'reg_lambda': 5, \n",
    "    'scale_pos_weight': 2, \n",
    "    'gamma': 1\n",
    "}"
   ]
  },
  {
   "cell_type": "code",
   "execution_count": 22,
   "id": "b92c1f8d",
   "metadata": {
    "collapsed": true
   },
   "outputs": [
    {
     "name": "stdout",
     "output_type": "stream",
     "text": [
      "[01:42:12] WARNING: /opt/conda/envs/rapids/conda-bld/xgboost_1639022671260/work/src/learner.cc:576: \n",
      "Parameters: { \"n_gpus\", \"silent\" } might not be used.\n",
      "\n",
      "  This could be a false alarm, with some parameters getting used by language bindings but\n",
      "  then being mistakenly passed down to XGBoost core, or some parameter actually being used\n",
      "  but getting flagged wrongly here. Please open an issue if you find any such cases.\n",
      "\n",
      "\n",
      "[0]\tvalidation-auc:0.79525\ttrain-auc:0.80980\n",
      "[1]\tvalidation-auc:0.80465\ttrain-auc:0.82075\n",
      "[2]\tvalidation-auc:0.81033\ttrain-auc:0.82475\n",
      "[3]\tvalidation-auc:0.81415\ttrain-auc:0.82506\n",
      "[4]\tvalidation-auc:0.81739\ttrain-auc:0.82462\n",
      "[5]\tvalidation-auc:0.81996\ttrain-auc:0.82375\n",
      "[6]\tvalidation-auc:0.82232\ttrain-auc:0.82443\n",
      "[7]\tvalidation-auc:0.82430\ttrain-auc:0.82628\n",
      "[8]\tvalidation-auc:0.82610\ttrain-auc:0.82831\n",
      "[9]\tvalidation-auc:0.82760\ttrain-auc:0.83029\n",
      "[10]\tvalidation-auc:0.82883\ttrain-auc:0.83276\n",
      "[11]\tvalidation-auc:0.83016\ttrain-auc:0.83522\n",
      "[12]\tvalidation-auc:0.83099\ttrain-auc:0.83725\n",
      "[13]\tvalidation-auc:0.83195\ttrain-auc:0.83930\n",
      "[14]\tvalidation-auc:0.83252\ttrain-auc:0.83993\n",
      "[15]\tvalidation-auc:0.83328\ttrain-auc:0.84200\n",
      "[16]\tvalidation-auc:0.83374\ttrain-auc:0.84275\n",
      "[17]\tvalidation-auc:0.83417\ttrain-auc:0.84374\n",
      "[18]\tvalidation-auc:0.83508\ttrain-auc:0.84527\n",
      "[19]\tvalidation-auc:0.83544\ttrain-auc:0.84692\n",
      "[20]\tvalidation-auc:0.83619\ttrain-auc:0.84868\n",
      "[21]\tvalidation-auc:0.83658\ttrain-auc:0.84924\n",
      "[22]\tvalidation-auc:0.83683\ttrain-auc:0.85003\n",
      "[23]\tvalidation-auc:0.83744\ttrain-auc:0.85181\n",
      "[24]\tvalidation-auc:0.83801\ttrain-auc:0.85281\n",
      "[25]\tvalidation-auc:0.83825\ttrain-auc:0.85365\n",
      "[26]\tvalidation-auc:0.83862\ttrain-auc:0.85573\n",
      "[27]\tvalidation-auc:0.83889\ttrain-auc:0.85626\n",
      "[28]\tvalidation-auc:0.83922\ttrain-auc:0.85810\n",
      "[29]\tvalidation-auc:0.83939\ttrain-auc:0.85852\n",
      "[30]\tvalidation-auc:0.83976\ttrain-auc:0.86097\n",
      "[31]\tvalidation-auc:0.84014\ttrain-auc:0.86233\n",
      "[32]\tvalidation-auc:0.84020\ttrain-auc:0.86285\n",
      "[33]\tvalidation-auc:0.84041\ttrain-auc:0.86335\n",
      "[34]\tvalidation-auc:0.84045\ttrain-auc:0.86386\n",
      "[35]\tvalidation-auc:0.84067\ttrain-auc:0.86572\n",
      "[36]\tvalidation-auc:0.84096\ttrain-auc:0.86695\n",
      "[37]\tvalidation-auc:0.84106\ttrain-auc:0.86837\n",
      "[38]\tvalidation-auc:0.84142\ttrain-auc:0.86923\n",
      "[39]\tvalidation-auc:0.84149\ttrain-auc:0.86950\n",
      "[40]\tvalidation-auc:0.84171\ttrain-auc:0.87115\n",
      "[41]\tvalidation-auc:0.84180\ttrain-auc:0.87145\n",
      "[42]\tvalidation-auc:0.84195\ttrain-auc:0.87306\n",
      "[43]\tvalidation-auc:0.84212\ttrain-auc:0.87435\n",
      "[44]\tvalidation-auc:0.84213\ttrain-auc:0.87472\n",
      "[45]\tvalidation-auc:0.84220\ttrain-auc:0.87514\n",
      "[46]\tvalidation-auc:0.84223\ttrain-auc:0.87543\n",
      "[47]\tvalidation-auc:0.84233\ttrain-auc:0.87581\n",
      "[48]\tvalidation-auc:0.84237\ttrain-auc:0.87624\n",
      "[49]\tvalidation-auc:0.84257\ttrain-auc:0.87756\n",
      "[50]\tvalidation-auc:0.84266\ttrain-auc:0.87884\n",
      "[51]\tvalidation-auc:0.84272\ttrain-auc:0.87926\n",
      "[52]\tvalidation-auc:0.84275\ttrain-auc:0.87998\n",
      "[53]\tvalidation-auc:0.84281\ttrain-auc:0.88023\n",
      "[54]\tvalidation-auc:0.84298\ttrain-auc:0.88162\n",
      "[55]\tvalidation-auc:0.84325\ttrain-auc:0.88261\n",
      "[56]\tvalidation-auc:0.84333\ttrain-auc:0.88379\n",
      "[57]\tvalidation-auc:0.84380\ttrain-auc:0.88637\n",
      "[58]\tvalidation-auc:0.84396\ttrain-auc:0.88762\n",
      "[59]\tvalidation-auc:0.84398\ttrain-auc:0.88809\n",
      "[60]\tvalidation-auc:0.84408\ttrain-auc:0.88907\n",
      "[61]\tvalidation-auc:0.84413\ttrain-auc:0.88960\n",
      "[62]\tvalidation-auc:0.84420\ttrain-auc:0.88976\n",
      "[63]\tvalidation-auc:0.84435\ttrain-auc:0.89042\n",
      "[64]\tvalidation-auc:0.84447\ttrain-auc:0.89100\n",
      "[65]\tvalidation-auc:0.84475\ttrain-auc:0.89153\n",
      "[66]\tvalidation-auc:0.84479\ttrain-auc:0.89242\n",
      "[67]\tvalidation-auc:0.84506\ttrain-auc:0.89460\n",
      "[68]\tvalidation-auc:0.84512\ttrain-auc:0.89511\n",
      "[69]\tvalidation-auc:0.84519\ttrain-auc:0.89572\n",
      "[70]\tvalidation-auc:0.84520\ttrain-auc:0.89622\n",
      "[71]\tvalidation-auc:0.84525\ttrain-auc:0.89678\n",
      "[72]\tvalidation-auc:0.84525\ttrain-auc:0.89726\n",
      "[73]\tvalidation-auc:0.84529\ttrain-auc:0.89777\n",
      "[74]\tvalidation-auc:0.84530\ttrain-auc:0.89786\n",
      "[75]\tvalidation-auc:0.84537\ttrain-auc:0.89863\n",
      "[76]\tvalidation-auc:0.84537\ttrain-auc:0.89928\n",
      "[77]\tvalidation-auc:0.84539\ttrain-auc:0.89981\n",
      "[78]\tvalidation-auc:0.84563\ttrain-auc:0.90168\n",
      "[79]\tvalidation-auc:0.84565\ttrain-auc:0.90222\n",
      "[80]\tvalidation-auc:0.84582\ttrain-auc:0.90350\n",
      "[81]\tvalidation-auc:0.84588\ttrain-auc:0.90429\n",
      "[82]\tvalidation-auc:0.84591\ttrain-auc:0.90515\n",
      "[83]\tvalidation-auc:0.84592\ttrain-auc:0.90547\n",
      "[84]\tvalidation-auc:0.84600\ttrain-auc:0.90574\n",
      "[85]\tvalidation-auc:0.84608\ttrain-auc:0.90608\n",
      "[86]\tvalidation-auc:0.84607\ttrain-auc:0.90651\n",
      "[87]\tvalidation-auc:0.84605\ttrain-auc:0.90682\n",
      "[88]\tvalidation-auc:0.84608\ttrain-auc:0.90707\n",
      "[89]\tvalidation-auc:0.84615\ttrain-auc:0.90811\n",
      "[90]\tvalidation-auc:0.84620\ttrain-auc:0.90874\n",
      "[91]\tvalidation-auc:0.84622\ttrain-auc:0.90900\n",
      "[92]\tvalidation-auc:0.84622\ttrain-auc:0.90915\n",
      "[93]\tvalidation-auc:0.84628\ttrain-auc:0.90959\n",
      "[94]\tvalidation-auc:0.84637\ttrain-auc:0.91007\n",
      "[95]\tvalidation-auc:0.84643\ttrain-auc:0.91063\n",
      "[96]\tvalidation-auc:0.84644\ttrain-auc:0.91091\n",
      "[97]\tvalidation-auc:0.84643\ttrain-auc:0.91130\n",
      "[98]\tvalidation-auc:0.84648\ttrain-auc:0.91144\n",
      "[99]\tvalidation-auc:0.84649\ttrain-auc:0.91171\n",
      "CPU times: user 46min 33s, sys: 16.4 s, total: 46min 49s\n",
      "Wall time: 2min 28s\n"
     ]
    }
   ],
   "source": [
    "%%time\n",
    "\n",
    "XGB_model_cpu_tuned = xgb.train(params_cpu, d_train, num_round, eval_list)"
   ]
  },
  {
   "cell_type": "code",
   "execution_count": 30,
   "id": "5c754f73",
   "metadata": {},
   "outputs": [
    {
     "name": "stdout",
     "output_type": "stream",
     "text": [
      "Accuracy score GPU (tuned):  0.7478939890861511\n",
      "ROC AUC score GPU (tuned):  0.8443186283111572\n"
     ]
    }
   ],
   "source": [
    "model_pred_GPU_tuned = XGB_model_cpu_tuned.predict(d_validation)\n",
    "\n",
    "model_predictions_GPU_tuned = [round(value) for value in model_pred_GPU_tuned]\n",
    "model_predictions_GPU_tuned = np.array(model_predictions_GPU_tuned)\n",
    "\n",
    "print('Accuracy score GPU (tuned): ', accuracy_score(y_test, model_predictions_GPU_tuned))\n",
    "\n",
    "print('ROC AUC score GPU (tuned): ', roc_auc_score(y_test, model_pred_GPU_tuned))"
   ]
  },
  {
   "cell_type": "markdown",
   "id": "420c08d0",
   "metadata": {},
   "source": [
    "We observe the same trend when we used tunned hyper parameters for training. The following plot represents the time that it taks to train the model on cpu and gpu using hyperparameter tuning"
   ]
  },
  {
   "cell_type": "code",
   "execution_count": 68,
   "id": "a7a23d94",
   "metadata": {},
   "outputs": [
    {
     "data": {
      "image/png": "[encoded data removed]",
      "text/plain": [
       "<Figure size 1080x360 with 3 Axes>"
      ]
     },
     "metadata": {
      "needs_background": "light"
     },
     "output_type": "display_data"
    }
   ],
   "source": [
    "# Define the test ROC AUC and accuracy scores for both models\n",
    "test_roc_auc_scores = [0.8443186283111572, 0.8440521955490112]\n",
    "test_accuracy_scores = [0.7478939890861511, 0.7475994229316711]\n",
    "\n",
    "\n",
    "\n",
    "# Define the training times for both models\n",
    "training_times = [22*60 + 31, 3.81]\n",
    "\n",
    "# Define the colors for the bars\n",
    "colors = ['#FFA54F', '#7B68EE']\n",
    "\n",
    "\n",
    "# Create a figure with three subplots\n",
    "fig, axs = plt.subplots(3,1 , figsize=(15, 5))\n",
    "\n",
    "# Plot the test ROC AUC scores\n",
    "axs[0].barh(['CPU', 'GPU'], test_roc_auc_scores, height=0.5, align='edge', color=colors)\n",
    "axs[0].set_xlabel('ROC AUC')\n",
    "\n",
    "# Plot the test accuracy scores\n",
    "axs[1].barh(['CPU', 'GPU'], test_accuracy_scores, height=0.5, align='edge', color=colors)\n",
    "axs[1].set_xlabel('Accuracy')\n",
    "\n",
    "# Plot the training times\n",
    "axs[2].barh(['CPU', 'GPU'], training_times, height=0.5, align='edge', color=colors)\n",
    "axs[2].set_xlabel('Training Time (seconds)')\n",
    "\n",
    "# Set the title for the entire figure\n",
    "fig.suptitle('Test Metrics and Training Times for CPU and GPU Models')\n",
    "\n",
    "# Add a grid to the plots\n",
    "for ax in axs:\n",
    "    ax.grid(axis='x', linestyle='--')\n",
    "\n",
    "# Adjust the layout of the subplots\n",
    "plt.tight_layout()\n",
    "\n",
    "# Display the plot\n",
    "plt.show()"
   ]
  },
  {
   "cell_type": "markdown",
   "id": "94d09fd8",
   "metadata": {},
   "source": [
    "## Conclusion\n",
    "\n",
    "After conducting experiments on training Random Forest and XGBoost models on both CPU and GPU using Scikit-learn and cuML libraries, we have observed that the cuML models outperformed the Scikit-learn models in terms of speed and efficiency.\n",
    "\n",
    "The cuML library, which is built on top of CUDA, utilizes the power of GPUs to perform machine learning tasks faster than traditional CPU-based libraries like Scikit-learn. This is because GPUs have a much larger number of processing cores that can be used in parallel to perform computations on large datasets.\n",
    "\n",
    "In our experiments, the cuML-based models performed significantly faster and achieved better accuracy than the Scikit-learn-based models. This can be attributed to the parallelism that GPUs offer, which allowed us to process larger datasets more efficiently and with fewer computational resources.\n",
    "\n",
    "Therefore, we conclude that using the cuML library for training machine learning models can lead to significant improvements in speed and accuracy, especially for large datasets, making it a preferred choice for GPU-based machine learning tasks."
   ]
  },
  {
   "cell_type": "code",
   "execution_count": null,
   "id": "117600c2",
   "metadata": {},
   "outputs": [],
   "source": []
  }
 ],
 "metadata": {
  "kernelspec": {
   "display_name": "Python 3 (ipykernel)",
   "language": "python",
   "name": "python3"
  },
  "language_info": {
   "codemirror_mode": {
    "name": "ipython",
    "version": 3
   },
   "file_extension": ".py",
   "mimetype": "text/x-python",
   "name": "python",
   "nbconvert_exporter": "python",
   "pygments_lexer": "ipython3",
   "version": "3.7.11"
  }
 },
 "nbformat": 4,
 "nbformat_minor": 5
}
